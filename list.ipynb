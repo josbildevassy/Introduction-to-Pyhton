{
  "nbformat": 4,
  "nbformat_minor": 0,
  "metadata": {
    "colab": {
      "name": "list.ipynb",
      "provenance": []
    },
    "kernelspec": {
      "name": "python3",
      "display_name": "Python 3"
    },
    "language_info": {
      "name": "python"
    }
  },
  "cells": [
    {
      "cell_type": "code",
      "execution_count": 1,
      "metadata": {
        "colab": {
          "base_uri": "https://localhost:8080/"
        },
        "id": "Py5e6YSvEg83",
        "outputId": "92275f05-bddb-4f28-a26a-7f8c20202891"
      },
      "outputs": [
        {
          "output_type": "stream",
          "name": "stdout",
          "text": [
            "josbil\n",
            "josbil\n",
            "josbil\n",
            "josbil\n",
            "josbil\n",
            "josbil\n",
            "josbil\n",
            "josbil\n",
            "josbil\n",
            "josbil\n",
            "josbil\n",
            "josbil\n",
            "josbil\n",
            "josbil\n",
            "josbil\n",
            "josbil\n",
            "josbil\n",
            "josbil\n",
            "josbil\n",
            "josbil\n"
          ]
        }
      ],
      "source": [
        "x=0\n",
        "while x<20:\n",
        "  print (\"josbil\")\n",
        "  x=x+1"
      ]
    },
    {
      "cell_type": "code",
      "source": [
        "x=0\n",
        "result=0\n",
        "while x<10:\n",
        "    result=result+x\n",
        "    x=x+1\n",
        "    print (result)\n"
      ],
      "metadata": {
        "colab": {
          "base_uri": "https://localhost:8080/"
        },
        "id": "L0CY2xPDHTRm",
        "outputId": "f7ab1bad-bfe5-4c19-f8fa-08efd737e281"
      },
      "execution_count": 2,
      "outputs": [
        {
          "output_type": "stream",
          "name": "stdout",
          "text": [
            "0\n",
            "1\n",
            "3\n",
            "6\n",
            "10\n",
            "15\n",
            "21\n",
            "28\n",
            "36\n",
            "45\n"
          ]
        }
      ]
    },
    {
      "cell_type": "code",
      "source": [
        "x=[10,20,30]\n",
        "print(x)\n",
        "  \n",
        "\n"
      ],
      "metadata": {
        "id": "7ilx3wXaKzcF",
        "colab": {
          "base_uri": "https://localhost:8080/"
        },
        "outputId": "9afc846d-185d-4990-dda9-e5a10774b53a"
      },
      "execution_count": 3,
      "outputs": [
        {
          "output_type": "stream",
          "name": "stdout",
          "text": [
            "[10, 20, 30]\n"
          ]
        }
      ]
    },
    {
      "cell_type": "code",
      "source": [
        "x[0]"
      ],
      "metadata": {
        "colab": {
          "base_uri": "https://localhost:8080/"
        },
        "id": "68lF0OeGSG4f",
        "outputId": "b200b6c4-5e24-46fd-9500-28f82258c6bc"
      },
      "execution_count": 4,
      "outputs": [
        {
          "output_type": "execute_result",
          "data": {
            "text/plain": [
              "10"
            ]
          },
          "metadata": {},
          "execution_count": 4
        }
      ]
    },
    {
      "cell_type": "code",
      "source": [
        "x[2]"
      ],
      "metadata": {
        "colab": {
          "base_uri": "https://localhost:8080/"
        },
        "id": "LABfcdO-TJsf",
        "outputId": "0f9f5d53-9605-4de0-a102-2ca182871e0a"
      },
      "execution_count": 5,
      "outputs": [
        {
          "output_type": "execute_result",
          "data": {
            "text/plain": [
              "30"
            ]
          },
          "metadata": {},
          "execution_count": 5
        }
      ]
    },
    {
      "cell_type": "code",
      "source": [
        "x[1]"
      ],
      "metadata": {
        "colab": {
          "base_uri": "https://localhost:8080/"
        },
        "id": "PxsIsMELTLmf",
        "outputId": "dfd7582f-dcc6-4c56-818b-8676f99b69b8"
      },
      "execution_count": 6,
      "outputs": [
        {
          "output_type": "execute_result",
          "data": {
            "text/plain": [
              "20"
            ]
          },
          "metadata": {},
          "execution_count": 6
        }
      ]
    },
    {
      "cell_type": "code",
      "source": [
        "x[-1]"
      ],
      "metadata": {
        "colab": {
          "base_uri": "https://localhost:8080/"
        },
        "id": "3MgZCBulTQAP",
        "outputId": "1e82fb6c-83af-4a37-a214-ad5f181e088d"
      },
      "execution_count": 7,
      "outputs": [
        {
          "output_type": "execute_result",
          "data": {
            "text/plain": [
              "30"
            ]
          },
          "metadata": {},
          "execution_count": 7
        }
      ]
    },
    {
      "cell_type": "code",
      "source": [
        ""
      ],
      "metadata": {
        "id": "qoRKejEjTdgO"
      },
      "execution_count": 7,
      "outputs": []
    }
  ]
}